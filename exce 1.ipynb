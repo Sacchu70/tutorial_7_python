{
 "cells": [
  {
   "cell_type": "markdown",
   "id": "800f66d7-53da-4948-8839-bf8a2c3aff65",
   "metadata": {},
   "source": [
    "Solution 1:"
   ]
  },
  {
   "cell_type": "markdown",
   "id": "e51ddad4-089e-4251-abbf-e5b4c54e006e",
   "metadata": {},
   "source": [
    "Exception is a python object which represents error.\n",
    "Exception used to handling the error comes in code while syntax error gives information about error(which type of of error comes)"
   ]
  },
  {
   "cell_type": "markdown",
   "id": "bcfa6dca-72eb-43c4-bab9-09fa32244c02",
   "metadata": {},
   "source": [
    "Solution 2 :"
   ]
  },
  {
   "cell_type": "markdown",
   "id": "09a32938-26ef-47ed-b291-f22bd2a20de6",
   "metadata": {},
   "source": [
    "When the exception is not handling then code is not running when nay type of error comes."
   ]
  },
  {
   "cell_type": "markdown",
   "id": "f4126645-0651-4c5a-95bb-d8e004981d54",
   "metadata": {},
   "source": [
    "Example:"
   ]
  },
  {
   "cell_type": "code",
   "execution_count": 3,
   "id": "2ec4ed02-fa20-49e4-bce1-9e068559e278",
   "metadata": {},
   "outputs": [
    {
     "name": "stdin",
     "output_type": "stream",
     "text": [
      " 0\n"
     ]
    },
    {
     "ename": "ZeroDivisionError",
     "evalue": "division by zero",
     "output_type": "error",
     "traceback": [
      "\u001b[0;31m---------------------------------------------------------------------------\u001b[0m",
      "\u001b[0;31mZeroDivisionError\u001b[0m                         Traceback (most recent call last)",
      "Cell \u001b[0;32mIn[3], line 2\u001b[0m\n\u001b[1;32m      1\u001b[0m a \u001b[38;5;241m=\u001b[39m \u001b[38;5;28mint\u001b[39m(\u001b[38;5;28minput\u001b[39m())\n\u001b[0;32m----> 2\u001b[0m b \u001b[38;5;241m=\u001b[39m \u001b[38;5;241;43m100\u001b[39;49m\u001b[38;5;241;43m/\u001b[39;49m\u001b[43ma\u001b[49m\n\u001b[1;32m      3\u001b[0m \u001b[38;5;28mprint\u001b[39m(b)\n\u001b[1;32m      4\u001b[0m \u001b[38;5;28mprint\u001b[39m(\u001b[38;5;124m\"\u001b[39m\u001b[38;5;124mmy code running properly\u001b[39m\u001b[38;5;124m\"\u001b[39m)\n",
      "\u001b[0;31mZeroDivisionError\u001b[0m: division by zero"
     ]
    }
   ],
   "source": [
    "a = int(input())\n",
    "b = 100/a\n",
    "print(b)\n",
    "print(\"my code running properly\")"
   ]
  },
  {
   "cell_type": "markdown",
   "id": "dbad61b6-8bcf-46c7-bbfe-62154c04b302",
   "metadata": {},
   "source": [
    "Solution 3 :"
   ]
  },
  {
   "cell_type": "markdown",
   "id": "a73183b0-10a7-4a8a-a24e-5e03b99fe476",
   "metadata": {},
   "source": [
    "Except statement used to handling error in python."
   ]
  },
  {
   "cell_type": "code",
   "execution_count": 7,
   "id": "bd53eef8-18d2-4f71-85b6-64c6924ff076",
   "metadata": {},
   "outputs": [
    {
     "name": "stdout",
     "output_type": "stream",
     "text": [
      "that is your error ,  No module named 'sachhu'\n"
     ]
    }
   ],
   "source": [
    "try:\n",
    "    import sachhu\n",
    "except Exception as e :\n",
    "    print(\"that is your error , \", e)\n",
    "    "
   ]
  },
  {
   "cell_type": "markdown",
   "id": "e2e90eb1-13bf-4c68-a23d-220c5aa51a79",
   "metadata": {},
   "source": [
    "Solution 4 :"
   ]
  },
  {
   "cell_type": "code",
   "execution_count": 9,
   "id": "deddd5af-e8cc-4d83-ba62-3d68c224217d",
   "metadata": {},
   "outputs": [],
   "source": [
    "import logging\n",
    "logging.basicConfig(filename = \"myass1.log\", level = logging.INFO)\n",
    "a = int(input(\"enter the number\"))\n",
    "logging.info(\"this is going to input a number\")\n",
    "try:\n",
    "    logging.error(\"that is try to execute your code\")\n",
    "    24/a\n",
    "except ZeroDivisionError:\n",
    "    logging.info(\"that is the exception handling code\")\n",
    "    raise ZeroDivisionError(\"a does not equals to zero\")\n",
    "else:\n",
    "    logging.info(\"that is my else condition\")\n",
    "    print(24/a)\n",
    "finally:\n",
    "    logging.info(\"that is my finally statement\")\n",
    "    print(\"your code is run properly\")  \n",
    "    "
   ]
  },
  {
   "cell_type": "markdown",
   "id": "13affa07-e10c-4b28-92af-8e3231b68e75",
   "metadata": {},
   "source": [
    "Solution 5:"
   ]
  },
  {
   "cell_type": "code",
   "execution_count": 23,
   "id": "f86f1a31-b34f-413e-ae34-3cf5fbcbf715",
   "metadata": {},
   "outputs": [],
   "source": [
    "class dob_year(Exception):\n",
    "    def __init__(self , msg ):\n",
    "        self.msg = msg"
   ]
  },
  {
   "cell_type": "code",
   "execution_count": 24,
   "id": "e86b340b-070c-4573-9d84-5cea8cdb48de",
   "metadata": {},
   "outputs": [],
   "source": [
    "def dob_year_check(birth_year):\n",
    "    if birth_year > 2018 :\n",
    "        raise dob_year(\"your birth year is not valid\")\n",
    "    else:\n",
    "        print(\"year is valid\")"
   ]
  },
  {
   "cell_type": "code",
   "execution_count": 25,
   "id": "157bccf5-58f5-47b4-92dd-28c0e678b75c",
   "metadata": {},
   "outputs": [
    {
     "name": "stdin",
     "output_type": "stream",
     "text": [
      "enter your birth year 2003\n"
     ]
    },
    {
     "name": "stdout",
     "output_type": "stream",
     "text": [
      "year is valid\n",
      "you are able to login \n",
      "your process is complete\n"
     ]
    }
   ],
   "source": [
    "birth_year = int(input(\"enter your birth year\"))\n",
    "try:\n",
    "    dob_year_check(birth_year)\n",
    "except Exception as e:\n",
    "    print(e)\n",
    "else:\n",
    "    print(\"you are able to login \")\n",
    "finally:\n",
    "    print(\"your process is complete\")\n",
    "    "
   ]
  },
  {
   "cell_type": "code",
   "execution_count": null,
   "id": "2475f37f-9d28-4765-88ae-a229b8341cc8",
   "metadata": {},
   "outputs": [],
   "source": []
  }
 ],
 "metadata": {
  "kernelspec": {
   "display_name": "Python 3 (ipykernel)",
   "language": "python",
   "name": "python3"
  },
  "language_info": {
   "codemirror_mode": {
    "name": "ipython",
    "version": 3
   },
   "file_extension": ".py",
   "mimetype": "text/x-python",
   "name": "python",
   "nbconvert_exporter": "python",
   "pygments_lexer": "ipython3",
   "version": "3.10.8"
  }
 },
 "nbformat": 4,
 "nbformat_minor": 5
}
